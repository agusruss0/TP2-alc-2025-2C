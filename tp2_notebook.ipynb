{
 "cells": [
  {
   "cell_type": "code",
   "execution_count": 6,
   "id": "a1827304",
   "metadata": {},
   "outputs": [],
   "source": [
    "import numpy as np\n",
    "\n",
    "from template_funciones_2 import calcula_L, calcula_lambda\n"
   ]
  },
  {
   "cell_type": "code",
   "execution_count": null,
   "id": "d7df2d5e",
   "metadata": {},
   "outputs": [
    {
     "data": {
      "text/plain": [
       "array([[ 3., -1., -1., -1.,  0.,  0.,  0.,  0.],\n",
       "       [-1.,  3., -1., -1.,  0.,  0.,  0.,  0.],\n",
       "       [-1., -1.,  4., -1.,  0., -1.,  0.,  0.],\n",
       "       [-1., -1., -1.,  4., -1.,  0.,  0.,  0.],\n",
       "       [ 0.,  0.,  0., -1.,  4., -1., -1., -1.],\n",
       "       [ 0.,  0., -1.,  0., -1.,  4., -1., -1.],\n",
       "       [ 0.,  0.,  0.,  0., -1., -1.,  3., -1.],\n",
       "       [ 0.,  0.,  0.,  0., -1., -1., -1.,  3.]])"
      ]
     },
     "execution_count": 5,
     "metadata": {},
     "output_type": "execute_result"
    }
   ],
   "source": [
    "A = np.array([\n",
    "   [0, 1, 1, 1, 0, 0, 0, 0],\n",
    "   [1, 0, 1, 1, 0, 0, 0, 0],\n",
    "   [1, 1, 0, 1, 0, 1, 0, 0],\n",
    "   [1, 1, 1, 0, 1, 0, 0, 0],\n",
    "   [0, 0, 0, 1, 0, 1, 1, 1],\n",
    "   [0, 0, 1, 0, 1, 0, 1, 1],\n",
    "   [0, 0, 0, 0, 1, 1, 0, 1],\n",
    "   [0, 0, 0, 0, 1, 1, 1, 0]\n",
    "])\n",
    "L = calcula_L(A)\n",
    "L"
   ]
  },
  {
   "cell_type": "markdown",
   "id": "7a3b7295",
   "metadata": {},
   "source": [
    "Para encontrar $\\Lambda$ tenemos que encontrar el vector $s^{\\Lambda}$ optimo que la minimice. Eso equivale a hallar los autovectores de autovalores mas bajos "
   ]
  },
  {
   "cell_type": "code",
   "execution_count": null,
   "id": "9bbc6193",
   "metadata": {},
   "outputs": [],
   "source": [
    "cal"
   ]
  }
 ],
 "metadata": {
  "kernelspec": {
   "display_name": ".venv",
   "language": "python",
   "name": "python3"
  },
  "language_info": {
   "codemirror_mode": {
    "name": "ipython",
    "version": 3
   },
   "file_extension": ".py",
   "mimetype": "text/x-python",
   "name": "python",
   "nbconvert_exporter": "python",
   "pygments_lexer": "ipython3",
   "version": "3.11.9"
  }
 },
 "nbformat": 4,
 "nbformat_minor": 5
}
